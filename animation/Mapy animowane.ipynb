{
 "cells": [
  {
   "cell_type": "markdown",
   "metadata": {
    "collapsed": false,
    "jupyter": {
     "outputs_hidden": false
    }
   },
   "source": [
    "# Mapy animowane"
   ]
  },
  {
   "cell_type": "markdown",
   "metadata": {
    "collapsed": false,
    "jupyter": {
     "outputs_hidden": false
    }
   },
   "source": [
    "***Autor: Adam Dąbkowski***"
   ]
  },
  {
   "cell_type": "markdown",
   "metadata": {
    "collapsed": false,
    "jupyter": {
     "outputs_hidden": false
    }
   },
   "source": [
    "## 0. Importowanie niezbędnych bibliotek"
   ]
  },
  {
   "cell_type": "code",
   "execution_count": 1,
   "metadata": {
    "ExecuteTime": {
     "end_time": "2024-12-08T15:04:50.625863Z",
     "start_time": "2024-12-08T15:04:49.962569Z"
    }
   },
   "outputs": [],
   "source": [
    "import geopandas as gpd\n",
    "import pandas as pd\n",
    "import matplotlib\n",
    "import matplotlib.pyplot as plt\n",
    "\n",
    "from matplotlib.animation import FuncAnimation\n",
    "from shapely.geometry import Point, LineString\n",
    "from typing import List"
   ]
  },
  {
   "cell_type": "markdown",
   "metadata": {
    "collapsed": false,
    "jupyter": {
     "outputs_hidden": false
    }
   },
   "source": [
    "## 1. Wczytywanie zbioru danych"
   ]
  },
  {
   "cell_type": "markdown",
   "metadata": {
    "collapsed": false,
    "jupyter": {
     "outputs_hidden": false
    }
   },
   "source": [
    "Źródło danych: ***https://globalfishingwatch.org/data-download/datasets/public-training-data-v1/***"
   ]
  },
  {
   "cell_type": "code",
   "execution_count": 2,
   "metadata": {
    "ExecuteTime": {
     "end_time": "2024-12-08T15:04:50.628270Z",
     "start_time": "2024-12-08T15:04:50.626755Z"
    },
    "collapsed": false,
    "jupyter": {
     "outputs_hidden": false
    }
   },
   "outputs": [],
   "source": [
    "DATASET_PATH: str = \"ships_trajectories.csv\""
   ]
  },
  {
   "cell_type": "code",
   "execution_count": 3,
   "metadata": {
    "ExecuteTime": {
     "end_time": "2024-12-08T15:04:50.757945Z",
     "start_time": "2024-12-08T15:04:50.628581Z"
    },
    "collapsed": false,
    "jupyter": {
     "outputs_hidden": false
    }
   },
   "outputs": [
    {
     "data": {
      "text/html": [
       "<div>\n",
       "<style scoped>\n",
       "    .dataframe tbody tr th:only-of-type {\n",
       "        vertical-align: middle;\n",
       "    }\n",
       "\n",
       "    .dataframe tbody tr th {\n",
       "        vertical-align: top;\n",
       "    }\n",
       "\n",
       "    .dataframe thead th {\n",
       "        text-align: right;\n",
       "    }\n",
       "</style>\n",
       "<table border=\"1\" class=\"dataframe\">\n",
       "  <thead>\n",
       "    <tr style=\"text-align: right;\">\n",
       "      <th></th>\n",
       "      <th>mmsi</th>\n",
       "      <th>timestamp</th>\n",
       "      <th>distance_from_shore</th>\n",
       "      <th>distance_from_port</th>\n",
       "      <th>speed</th>\n",
       "      <th>course</th>\n",
       "      <th>lat</th>\n",
       "      <th>lon</th>\n",
       "      <th>is_fishing</th>\n",
       "      <th>source</th>\n",
       "    </tr>\n",
       "  </thead>\n",
       "  <tbody>\n",
       "    <tr>\n",
       "      <th>0</th>\n",
       "      <td>1.848346e+13</td>\n",
       "      <td>1.340882e+09</td>\n",
       "      <td>0.000000</td>\n",
       "      <td>2236.013184</td>\n",
       "      <td>0.0</td>\n",
       "      <td>0.000000</td>\n",
       "      <td>28.967354</td>\n",
       "      <td>-13.537797</td>\n",
       "      <td>-1.0</td>\n",
       "      <td>gfw</td>\n",
       "    </tr>\n",
       "    <tr>\n",
       "      <th>1</th>\n",
       "      <td>1.848346e+13</td>\n",
       "      <td>1.340884e+09</td>\n",
       "      <td>0.000000</td>\n",
       "      <td>2236.013184</td>\n",
       "      <td>0.0</td>\n",
       "      <td>125.199997</td>\n",
       "      <td>28.967373</td>\n",
       "      <td>-13.537838</td>\n",
       "      <td>-1.0</td>\n",
       "      <td>gfw</td>\n",
       "    </tr>\n",
       "    <tr>\n",
       "      <th>2</th>\n",
       "      <td>1.848346e+13</td>\n",
       "      <td>1.340885e+09</td>\n",
       "      <td>0.000000</td>\n",
       "      <td>2236.013184</td>\n",
       "      <td>0.0</td>\n",
       "      <td>0.000000</td>\n",
       "      <td>28.967354</td>\n",
       "      <td>-13.537838</td>\n",
       "      <td>-1.0</td>\n",
       "      <td>gfw</td>\n",
       "    </tr>\n",
       "    <tr>\n",
       "      <th>3</th>\n",
       "      <td>1.848346e+13</td>\n",
       "      <td>1.340888e+09</td>\n",
       "      <td>0.000000</td>\n",
       "      <td>2236.013184</td>\n",
       "      <td>0.0</td>\n",
       "      <td>0.000000</td>\n",
       "      <td>28.967354</td>\n",
       "      <td>-13.537838</td>\n",
       "      <td>-1.0</td>\n",
       "      <td>gfw</td>\n",
       "    </tr>\n",
       "    <tr>\n",
       "      <th>4</th>\n",
       "      <td>1.848346e+13</td>\n",
       "      <td>1.340925e+09</td>\n",
       "      <td>1999.950928</td>\n",
       "      <td>2828.357666</td>\n",
       "      <td>8.7</td>\n",
       "      <td>203.100006</td>\n",
       "      <td>28.929653</td>\n",
       "      <td>-13.543955</td>\n",
       "      <td>-1.0</td>\n",
       "      <td>gfw</td>\n",
       "    </tr>\n",
       "    <tr>\n",
       "      <th>...</th>\n",
       "      <td>...</td>\n",
       "      <td>...</td>\n",
       "      <td>...</td>\n",
       "      <td>...</td>\n",
       "      <td>...</td>\n",
       "      <td>...</td>\n",
       "      <td>...</td>\n",
       "      <td>...</td>\n",
       "      <td>...</td>\n",
       "      <td>...</td>\n",
       "    </tr>\n",
       "    <tr>\n",
       "      <th>95</th>\n",
       "      <td>1.848346e+13</td>\n",
       "      <td>1.342261e+09</td>\n",
       "      <td>26400.109375</td>\n",
       "      <td>57077.492188</td>\n",
       "      <td>8.4</td>\n",
       "      <td>220.600006</td>\n",
       "      <td>28.525244</td>\n",
       "      <td>-14.365098</td>\n",
       "      <td>-1.0</td>\n",
       "      <td>gfw</td>\n",
       "    </tr>\n",
       "    <tr>\n",
       "      <th>96</th>\n",
       "      <td>1.848346e+13</td>\n",
       "      <td>1.342265e+09</td>\n",
       "      <td>38274.378906</td>\n",
       "      <td>75536.218750</td>\n",
       "      <td>9.6</td>\n",
       "      <td>228.100006</td>\n",
       "      <td>28.431360</td>\n",
       "      <td>-14.516421</td>\n",
       "      <td>-1.0</td>\n",
       "      <td>gfw</td>\n",
       "    </tr>\n",
       "    <tr>\n",
       "      <th>97</th>\n",
       "      <td>1.848346e+13</td>\n",
       "      <td>1.342271e+09</td>\n",
       "      <td>35354.472656</td>\n",
       "      <td>80278.781250</td>\n",
       "      <td>10.3</td>\n",
       "      <td>222.699997</td>\n",
       "      <td>28.302937</td>\n",
       "      <td>-14.719269</td>\n",
       "      <td>-1.0</td>\n",
       "      <td>gfw</td>\n",
       "    </tr>\n",
       "    <tr>\n",
       "      <th>98</th>\n",
       "      <td>1.848346e+13</td>\n",
       "      <td>1.342276e+09</td>\n",
       "      <td>48506.542969</td>\n",
       "      <td>55035.000000</td>\n",
       "      <td>8.5</td>\n",
       "      <td>244.699997</td>\n",
       "      <td>28.167040</td>\n",
       "      <td>-14.928179</td>\n",
       "      <td>-1.0</td>\n",
       "      <td>gfw</td>\n",
       "    </tr>\n",
       "    <tr>\n",
       "      <th>99</th>\n",
       "      <td>1.848346e+13</td>\n",
       "      <td>1.342277e+09</td>\n",
       "      <td>49657.617188</td>\n",
       "      <td>52008.335938</td>\n",
       "      <td>9.5</td>\n",
       "      <td>236.500000</td>\n",
       "      <td>28.151873</td>\n",
       "      <td>-14.951765</td>\n",
       "      <td>-1.0</td>\n",
       "      <td>gfw</td>\n",
       "    </tr>\n",
       "  </tbody>\n",
       "</table>\n",
       "<p>100 rows × 10 columns</p>\n",
       "</div>"
      ],
      "text/plain": [
       "            mmsi     timestamp  distance_from_shore  distance_from_port  \\\n",
       "0   1.848346e+13  1.340882e+09             0.000000         2236.013184   \n",
       "1   1.848346e+13  1.340884e+09             0.000000         2236.013184   \n",
       "2   1.848346e+13  1.340885e+09             0.000000         2236.013184   \n",
       "3   1.848346e+13  1.340888e+09             0.000000         2236.013184   \n",
       "4   1.848346e+13  1.340925e+09          1999.950928         2828.357666   \n",
       "..           ...           ...                  ...                 ...   \n",
       "95  1.848346e+13  1.342261e+09         26400.109375        57077.492188   \n",
       "96  1.848346e+13  1.342265e+09         38274.378906        75536.218750   \n",
       "97  1.848346e+13  1.342271e+09         35354.472656        80278.781250   \n",
       "98  1.848346e+13  1.342276e+09         48506.542969        55035.000000   \n",
       "99  1.848346e+13  1.342277e+09         49657.617188        52008.335938   \n",
       "\n",
       "    speed      course        lat        lon  is_fishing source  \n",
       "0     0.0    0.000000  28.967354 -13.537797        -1.0    gfw  \n",
       "1     0.0  125.199997  28.967373 -13.537838        -1.0    gfw  \n",
       "2     0.0    0.000000  28.967354 -13.537838        -1.0    gfw  \n",
       "3     0.0    0.000000  28.967354 -13.537838        -1.0    gfw  \n",
       "4     8.7  203.100006  28.929653 -13.543955        -1.0    gfw  \n",
       "..    ...         ...        ...        ...         ...    ...  \n",
       "95    8.4  220.600006  28.525244 -14.365098        -1.0    gfw  \n",
       "96    9.6  228.100006  28.431360 -14.516421        -1.0    gfw  \n",
       "97   10.3  222.699997  28.302937 -14.719269        -1.0    gfw  \n",
       "98    8.5  244.699997  28.167040 -14.928179        -1.0    gfw  \n",
       "99    9.5  236.500000  28.151873 -14.951765        -1.0    gfw  \n",
       "\n",
       "[100 rows x 10 columns]"
      ]
     },
     "execution_count": 3,
     "metadata": {},
     "output_type": "execute_result"
    }
   ],
   "source": [
    "df = pd.read_csv(DATASET_PATH, low_memory=False)\n",
    "df.head(n=100)"
   ]
  },
  {
   "cell_type": "markdown",
   "metadata": {
    "collapsed": false,
    "jupyter": {
     "outputs_hidden": false
    }
   },
   "source": [
    "## 2. Wybór statku"
   ]
  },
  {
   "cell_type": "markdown",
   "metadata": {
    "collapsed": false,
    "jupyter": {
     "outputs_hidden": false
    }
   },
   "source": [
    "#### 2.1 Region"
   ]
  },
  {
   "cell_type": "markdown",
   "metadata": {
    "collapsed": false,
    "jupyter": {
     "outputs_hidden": false
    }
   },
   "source": [
    "##### 2.1.1 USA"
   ]
  },
  {
   "cell_type": "code",
   "execution_count": 4,
   "metadata": {
    "ExecuteTime": {
     "end_time": "2024-12-08T15:04:50.759998Z",
     "start_time": "2024-12-08T15:04:50.758577Z"
    },
    "collapsed": false,
    "jupyter": {
     "outputs_hidden": false
    }
   },
   "outputs": [],
   "source": [
    "# SHIP_ID: float = 47334168288729.0\n",
    "# MAP_LONGITUDE_RANGE: List[int] = [-80, -60]\n",
    "# MAP_LATITUDE_RANGE: List[int] = [30, 50]"
   ]
  },
  {
   "cell_type": "markdown",
   "metadata": {
    "collapsed": false,
    "jupyter": {
     "outputs_hidden": false
    }
   },
   "source": [
    "##### 2.1.2 Japonia I"
   ]
  },
  {
   "cell_type": "code",
   "execution_count": 5,
   "metadata": {
    "ExecuteTime": {
     "end_time": "2024-12-08T15:04:50.763600Z",
     "start_time": "2024-12-08T15:04:50.761947Z"
    },
    "collapsed": false,
    "jupyter": {
     "outputs_hidden": false
    }
   },
   "outputs": [],
   "source": [
    "# SHIP_ID: float = 196184437994412.0\n",
    "# MAP_LONGITUDE_RANGE: List[int] = [120, 155]\n",
    "# MAP_LATITUDE_RANGE: List[int] = [15, 50]"
   ]
  },
  {
   "cell_type": "markdown",
   "metadata": {
    "collapsed": false,
    "jupyter": {
     "outputs_hidden": false
    }
   },
   "source": [
    "##### 2.1.3 Japonia II"
   ]
  },
  {
   "cell_type": "code",
   "execution_count": 6,
   "metadata": {
    "ExecuteTime": {
     "end_time": "2024-12-08T15:04:50.767616Z",
     "start_time": "2024-12-08T15:04:50.764493Z"
    },
    "collapsed": false,
    "jupyter": {
     "outputs_hidden": false
    }
   },
   "outputs": [],
   "source": [
    "SHIP_ID: float = 102029098096261.0\n",
    "MAP_LONGITUDE_RANGE: List[int] = [120, 175]\n",
    "MAP_LATITUDE_RANGE: List[int] = [10, 55]"
   ]
  },
  {
   "cell_type": "markdown",
   "metadata": {
    "collapsed": false,
    "jupyter": {
     "outputs_hidden": false
    }
   },
   "source": [
    "##### 2.1.4 Afryka Zachodnia I"
   ]
  },
  {
   "cell_type": "code",
   "execution_count": 7,
   "metadata": {
    "ExecuteTime": {
     "end_time": "2024-12-08T15:04:50.768689Z",
     "start_time": "2024-12-08T15:04:50.766886Z"
    },
    "collapsed": false,
    "jupyter": {
     "outputs_hidden": false
    }
   },
   "outputs": [],
   "source": [
    "# SHIP_ID: float = 18483455048454.0\n",
    "# MAP_LONGITUDE_RANGE: List[int] = [-25, -5]\n",
    "# MAP_LATITUDE_RANGE: List[int] = [20, 35]"
   ]
  },
  {
   "cell_type": "markdown",
   "metadata": {
    "collapsed": false,
    "jupyter": {
     "outputs_hidden": false
    }
   },
   "source": [
    "##### 2.1.5 Afryka Zachodnia II"
   ]
  },
  {
   "cell_type": "code",
   "execution_count": 8,
   "metadata": {
    "ExecuteTime": {
     "end_time": "2024-12-08T15:04:50.770709Z",
     "start_time": "2024-12-08T15:04:50.769025Z"
    },
    "collapsed": false,
    "jupyter": {
     "outputs_hidden": false
    }
   },
   "outputs": [],
   "source": [
    "# SHIP_ID: float = 214572731257568.0\n",
    "# MAP_LONGITUDE_RANGE: List[int] = [-45, 20]\n",
    "# MAP_LATITUDE_RANGE: List[int] = [20, 55]"
   ]
  },
  {
   "cell_type": "markdown",
   "metadata": {
    "collapsed": false,
    "jupyter": {
     "outputs_hidden": false
    }
   },
   "source": [
    "#### 2.2 Selekcja danych"
   ]
  },
  {
   "cell_type": "code",
   "execution_count": 9,
   "metadata": {
    "ExecuteTime": {
     "end_time": "2024-12-08T15:04:50.789772Z",
     "start_time": "2024-12-08T15:04:50.771273Z"
    },
    "collapsed": false,
    "jupyter": {
     "outputs_hidden": false
    }
   },
   "outputs": [
    {
     "data": {
      "text/html": [
       "<div>\n",
       "<style scoped>\n",
       "    .dataframe tbody tr th:only-of-type {\n",
       "        vertical-align: middle;\n",
       "    }\n",
       "\n",
       "    .dataframe tbody tr th {\n",
       "        vertical-align: top;\n",
       "    }\n",
       "\n",
       "    .dataframe thead th {\n",
       "        text-align: right;\n",
       "    }\n",
       "</style>\n",
       "<table border=\"1\" class=\"dataframe\">\n",
       "  <thead>\n",
       "    <tr style=\"text-align: right;\">\n",
       "      <th></th>\n",
       "      <th>mmsi</th>\n",
       "      <th>timestamp</th>\n",
       "      <th>distance_from_shore</th>\n",
       "      <th>distance_from_port</th>\n",
       "      <th>speed</th>\n",
       "      <th>course</th>\n",
       "      <th>lat</th>\n",
       "      <th>lon</th>\n",
       "      <th>is_fishing</th>\n",
       "      <th>source</th>\n",
       "    </tr>\n",
       "  </thead>\n",
       "  <tbody>\n",
       "    <tr>\n",
       "      <th>130059</th>\n",
       "      <td>1.020291e+14</td>\n",
       "      <td>1.429227e+09</td>\n",
       "      <td>999.975464</td>\n",
       "      <td>28318.910156</td>\n",
       "      <td>0.0</td>\n",
       "      <td>0.0</td>\n",
       "      <td>34.867195</td>\n",
       "      <td>138.328293</td>\n",
       "      <td>-1.0</td>\n",
       "      <td>gfw</td>\n",
       "    </tr>\n",
       "    <tr>\n",
       "      <th>130060</th>\n",
       "      <td>1.020291e+14</td>\n",
       "      <td>1.429228e+09</td>\n",
       "      <td>999.975464</td>\n",
       "      <td>28318.910156</td>\n",
       "      <td>0.0</td>\n",
       "      <td>0.0</td>\n",
       "      <td>34.867188</td>\n",
       "      <td>138.328308</td>\n",
       "      <td>-1.0</td>\n",
       "      <td>gfw</td>\n",
       "    </tr>\n",
       "    <tr>\n",
       "      <th>130061</th>\n",
       "      <td>1.020291e+14</td>\n",
       "      <td>1.429231e+09</td>\n",
       "      <td>999.975464</td>\n",
       "      <td>28318.910156</td>\n",
       "      <td>0.0</td>\n",
       "      <td>0.0</td>\n",
       "      <td>34.867199</td>\n",
       "      <td>138.328262</td>\n",
       "      <td>-1.0</td>\n",
       "      <td>gfw</td>\n",
       "    </tr>\n",
       "    <tr>\n",
       "      <th>130062</th>\n",
       "      <td>1.020291e+14</td>\n",
       "      <td>1.429232e+09</td>\n",
       "      <td>999.975464</td>\n",
       "      <td>28318.910156</td>\n",
       "      <td>0.0</td>\n",
       "      <td>0.0</td>\n",
       "      <td>34.867195</td>\n",
       "      <td>138.328262</td>\n",
       "      <td>-1.0</td>\n",
       "      <td>gfw</td>\n",
       "    </tr>\n",
       "    <tr>\n",
       "      <th>130063</th>\n",
       "      <td>1.020291e+14</td>\n",
       "      <td>1.429235e+09</td>\n",
       "      <td>999.975464</td>\n",
       "      <td>28318.910156</td>\n",
       "      <td>0.0</td>\n",
       "      <td>0.0</td>\n",
       "      <td>34.867195</td>\n",
       "      <td>138.328247</td>\n",
       "      <td>-1.0</td>\n",
       "      <td>gfw</td>\n",
       "    </tr>\n",
       "    <tr>\n",
       "      <th>...</th>\n",
       "      <td>...</td>\n",
       "      <td>...</td>\n",
       "      <td>...</td>\n",
       "      <td>...</td>\n",
       "      <td>...</td>\n",
       "      <td>...</td>\n",
       "      <td>...</td>\n",
       "      <td>...</td>\n",
       "      <td>...</td>\n",
       "      <td>...</td>\n",
       "    </tr>\n",
       "    <tr>\n",
       "      <th>130154</th>\n",
       "      <td>1.020291e+14</td>\n",
       "      <td>1.429493e+09</td>\n",
       "      <td>999.975464</td>\n",
       "      <td>28318.910156</td>\n",
       "      <td>0.0</td>\n",
       "      <td>0.0</td>\n",
       "      <td>34.867195</td>\n",
       "      <td>138.328262</td>\n",
       "      <td>-1.0</td>\n",
       "      <td>gfw</td>\n",
       "    </tr>\n",
       "    <tr>\n",
       "      <th>130155</th>\n",
       "      <td>1.020291e+14</td>\n",
       "      <td>1.429494e+09</td>\n",
       "      <td>999.975464</td>\n",
       "      <td>28318.910156</td>\n",
       "      <td>0.0</td>\n",
       "      <td>0.0</td>\n",
       "      <td>34.867172</td>\n",
       "      <td>138.328247</td>\n",
       "      <td>-1.0</td>\n",
       "      <td>gfw</td>\n",
       "    </tr>\n",
       "    <tr>\n",
       "      <th>130156</th>\n",
       "      <td>1.020291e+14</td>\n",
       "      <td>1.429496e+09</td>\n",
       "      <td>999.975464</td>\n",
       "      <td>28318.910156</td>\n",
       "      <td>0.0</td>\n",
       "      <td>0.0</td>\n",
       "      <td>34.867180</td>\n",
       "      <td>138.328247</td>\n",
       "      <td>0.0</td>\n",
       "      <td>gfw</td>\n",
       "    </tr>\n",
       "    <tr>\n",
       "      <th>130157</th>\n",
       "      <td>1.020291e+14</td>\n",
       "      <td>1.429497e+09</td>\n",
       "      <td>999.975464</td>\n",
       "      <td>28318.910156</td>\n",
       "      <td>0.0</td>\n",
       "      <td>0.0</td>\n",
       "      <td>34.867180</td>\n",
       "      <td>138.328247</td>\n",
       "      <td>0.0</td>\n",
       "      <td>gfw</td>\n",
       "    </tr>\n",
       "    <tr>\n",
       "      <th>130158</th>\n",
       "      <td>1.020291e+14</td>\n",
       "      <td>1.429498e+09</td>\n",
       "      <td>999.975464</td>\n",
       "      <td>28318.910156</td>\n",
       "      <td>0.0</td>\n",
       "      <td>0.0</td>\n",
       "      <td>34.867168</td>\n",
       "      <td>138.328247</td>\n",
       "      <td>0.0</td>\n",
       "      <td>gfw</td>\n",
       "    </tr>\n",
       "  </tbody>\n",
       "</table>\n",
       "<p>100 rows × 10 columns</p>\n",
       "</div>"
      ],
      "text/plain": [
       "                mmsi     timestamp  distance_from_shore  distance_from_port  \\\n",
       "130059  1.020291e+14  1.429227e+09           999.975464        28318.910156   \n",
       "130060  1.020291e+14  1.429228e+09           999.975464        28318.910156   \n",
       "130061  1.020291e+14  1.429231e+09           999.975464        28318.910156   \n",
       "130062  1.020291e+14  1.429232e+09           999.975464        28318.910156   \n",
       "130063  1.020291e+14  1.429235e+09           999.975464        28318.910156   \n",
       "...              ...           ...                  ...                 ...   \n",
       "130154  1.020291e+14  1.429493e+09           999.975464        28318.910156   \n",
       "130155  1.020291e+14  1.429494e+09           999.975464        28318.910156   \n",
       "130156  1.020291e+14  1.429496e+09           999.975464        28318.910156   \n",
       "130157  1.020291e+14  1.429497e+09           999.975464        28318.910156   \n",
       "130158  1.020291e+14  1.429498e+09           999.975464        28318.910156   \n",
       "\n",
       "        speed  course        lat         lon  is_fishing source  \n",
       "130059    0.0     0.0  34.867195  138.328293        -1.0    gfw  \n",
       "130060    0.0     0.0  34.867188  138.328308        -1.0    gfw  \n",
       "130061    0.0     0.0  34.867199  138.328262        -1.0    gfw  \n",
       "130062    0.0     0.0  34.867195  138.328262        -1.0    gfw  \n",
       "130063    0.0     0.0  34.867195  138.328247        -1.0    gfw  \n",
       "...       ...     ...        ...         ...         ...    ...  \n",
       "130154    0.0     0.0  34.867195  138.328262        -1.0    gfw  \n",
       "130155    0.0     0.0  34.867172  138.328247        -1.0    gfw  \n",
       "130156    0.0     0.0  34.867180  138.328247         0.0    gfw  \n",
       "130157    0.0     0.0  34.867180  138.328247         0.0    gfw  \n",
       "130158    0.0     0.0  34.867168  138.328247         0.0    gfw  \n",
       "\n",
       "[100 rows x 10 columns]"
      ]
     },
     "execution_count": 9,
     "metadata": {},
     "output_type": "execute_result"
    }
   ],
   "source": [
    "df_ship = df[df[\"mmsi\"] == SHIP_ID]\n",
    "df_ship.head(n=100)"
   ]
  },
  {
   "cell_type": "markdown",
   "metadata": {
    "collapsed": false,
    "jupyter": {
     "outputs_hidden": false
    }
   },
   "source": [
    "## 3. Wizualizacja danych"
   ]
  },
  {
   "cell_type": "code",
   "execution_count": 10,
   "metadata": {
    "ExecuteTime": {
     "end_time": "2024-12-08T15:04:50.789909Z",
     "start_time": "2024-12-08T15:04:50.779371Z"
    },
    "collapsed": false,
    "jupyter": {
     "outputs_hidden": false
    }
   },
   "outputs": [],
   "source": [
    "WORD_MAP_PATH: str = \"ne_110m_admin_0_countries/ne_110m_admin_0_countries.shp\"\n",
    "REFRESH_FREQUENCY: int = 100"
   ]
  },
  {
   "cell_type": "markdown",
   "metadata": {
    "collapsed": false,
    "jupyter": {
     "outputs_hidden": false
    }
   },
   "source": [
    "#### 3.1 Wizualizacja trasy statku na mapie"
   ]
  },
  {
   "cell_type": "code",
   "execution_count": null,
   "metadata": {
    "ExecuteTime": {
     "end_time": "2024-12-08T15:05:17.653219Z",
     "start_time": "2024-12-08T15:05:12.996398Z"
    },
    "collapsed": false,
    "jupyter": {
     "outputs_hidden": false
    }
   },
   "outputs": [],
   "source": [
    "matplotlib.use('Qt5Agg')\n",
    "plt.style.use('seaborn-v0_8-whitegrid')\n",
    "\n",
    "points = [Point(row[\"lon\"], row[\"lat\"]) for _, row in df_ship.iterrows()]\n",
    "timestamps = pd.to_datetime(df_ship[\"timestamp\"], unit='s')\n",
    "gdf_points = gpd.GeoDataFrame(geometry=points)\n",
    "\n",
    "line = LineString(points)\n",
    "gdf_line = gpd.GeoDataFrame(geometry=[line])\n",
    "\n",
    "world_map = gpd.read_file(WORD_MAP_PATH)\n",
    "\n",
    "fig, ax = plt.subplots(figsize=(10, 6))\n",
    "world_map.plot(ax=ax, color='lightgray')\n",
    "\n",
    "ax.set_xlim(MAP_LONGITUDE_RANGE)\n",
    "ax.set_ylim(MAP_LATITUDE_RANGE)\n",
    "\n",
    "trail, = ax.plot([], [], color='#ff6361', linewidth=2, label=\"Trasa statku\")\n",
    "current_pos, = ax.plot([], [], 'o', color='#58508d', label=\"Pozycja statku\")\n",
    "\n",
    "date_text = ax.text(0.02, 0.95, '', transform=ax.transAxes, fontsize=10, bbox=dict(facecolor='white', alpha=0.7))\n",
    "\n",
    "def init():\n",
    "    trail.set_data([], [])\n",
    "    current_pos.set_data([], [])\n",
    "    date_text.set_text('')\n",
    "    return trail, current_pos, date_text\n",
    "\n",
    "def update(frame):\n",
    "    x_coords = [p.x for p in points[:frame + 1]]\n",
    "    y_coords = [p.y for p in points[:frame + 1]]\n",
    "    trail.set_data(x_coords, y_coords)\n",
    "    current_pos.set_data([x_coords[-1]], [y_coords[-1]])\n",
    "    current_time = timestamps.iloc[frame].strftime('%Y-%m-%d %H:%M:%S')\n",
    "    date_text.set_text(f'Data: {current_time}')\n",
    "    return trail, current_pos, date_text\n",
    "\n",
    "ani = FuncAnimation(fig, update, frames=range(len(points)), init_func=init, interval=(1000/REFRESH_FREQUENCY), blit=True)\n",
    "\n",
    "ax.legend()\n",
    "ax.set_title(\"Animowana trasa statku\")\n",
    "\n",
    "plt.show()"
   ]
  },
  {
   "cell_type": "code",
   "execution_count": null,
   "metadata": {},
   "outputs": [],
   "source": []
  }
 ],
 "metadata": {
  "kernelspec": {
   "display_name": "Python 3 (ipykernel)",
   "language": "python",
   "name": "python3"
  },
  "language_info": {
   "codemirror_mode": {
    "name": "ipython",
    "version": 3
   },
   "file_extension": ".py",
   "mimetype": "text/x-python",
   "name": "python",
   "nbconvert_exporter": "python",
   "pygments_lexer": "ipython3",
   "version": "3.10.3"
  }
 },
 "nbformat": 4,
 "nbformat_minor": 4
}
